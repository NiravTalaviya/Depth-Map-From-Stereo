{
 "cells": [
  {
   "cell_type": "code",
   "execution_count": null,
   "metadata": {},
   "outputs": [],
   "source": [
    "# from https://www.radioeng.cz/fulltexts/2012/12_01_0070_0078.pdf\n",
    "import cv2\n",
    "import matplotlib.pyplot as plt\n",
    "from sklearn.cluster import MeanShift,estimate_bandwidth\n",
    "from skimage.color import rgb2gray\n",
    "import numpy as np\n",
    "lt = ['tsukuba']\n",
    "import matplotlib.pyplot as plt\n",
    "from itertools import cycle\n",
    "\n",
    "r, h, c, w = 250, 90, 400, 125  # simply hardcoded the values\n",
    "track_window = (c, r, w, h)\n",
    "term_crit = (cv2.TERM_CRITERIA_EPS | cv2.TERM_CRITERIA_COUNT, 10, 1)\n",
    "for x in lt:\n",
    "    # reading images\n",
    "    imgL = cv2.imread(x + '/imgL.png')\n",
    "    plt.figure()\n",
    "    plt.imshow(imgL)\n",
    "    plt.show()\n",
    "\n",
    "    # As images are already rectified,that steps is skipped.\n",
    "    # Mean shift Filtering\n",
    "    imgL = cv2.pyrMeanShiftFiltering(imgL, 2, 5)\n",
    "    # plt.figure()\n",
    "    # plt.imshow(rgb2gray(imgL))\n",
    "    # plt.show()\n",
    "\n",
    "    ret,track_window = cv2.meanShift(imgL, track_window, term_crit)\n",
    "    plt.figure()\n",
    "    plt.imshow(ret)\n",
    "    plt.show()"
   ]
  }
 ],
 "metadata": {
  "kernelspec": {
   "display_name": "Python 3",
   "language": "python",
   "name": "python3"
  },
  "language_info": {
   "codemirror_mode": {
    "name": "ipython",
    "version": 3
   },
   "file_extension": ".py",
   "mimetype": "text/x-python",
   "name": "python",
   "nbconvert_exporter": "python",
   "pygments_lexer": "ipython3",
   "version": "3.7.0"
  }
 },
 "nbformat": 4,
 "nbformat_minor": 2
}
