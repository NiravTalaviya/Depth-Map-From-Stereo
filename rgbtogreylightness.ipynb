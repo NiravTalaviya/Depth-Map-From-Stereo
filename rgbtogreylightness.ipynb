{
 "cells": [
  {
   "cell_type": "code",
   "execution_count": null,
   "metadata": {},
   "outputs": [],
   "source": [
    "import cv2\n",
    "import matplotlib.pyplot as plt\n",
    "from numpy import empty\n",
    "\n",
    "\n",
    "img = cv2.imread('chair/imgL.png')\n",
    "plt.figure()\n",
    "plt.imshow(img)\n",
    "plt.show()\n",
    "result = empty([img.shape[0], img.shape[1]])\n",
    "for i in range(0, img.shape[0]):\n",
    "    for j in range(0, img.shape[1]):\n",
    "        result[i][j] = 0\n",
    "        result[i][j] = (img[i][j][0]+img[i][j][1]+img[i][j][2])/3\n",
    "        print(i)\n",
    "plt.figure()\n",
    "plt.imshow(result)\n",
    "plt.show()\n"
   ]
  }
 ],
 "metadata": {
  "kernelspec": {
   "display_name": "Python 3",
   "language": "python",
   "name": "python3"
  },
  "language_info": {
   "codemirror_mode": {
    "name": "ipython",
    "version": 3
   },
   "file_extension": ".py",
   "mimetype": "text/x-python",
   "name": "python",
   "nbconvert_exporter": "python",
   "pygments_lexer": "ipython3",
   "version": "3.7.0"
  }
 },
 "nbformat": 4,
 "nbformat_minor": 2
}
